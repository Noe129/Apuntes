{
 "cells": [
  {
   "cell_type": "markdown",
   "id": "c001c58c",
   "metadata": {},
   "source": [
    "# Probabilidad\n",
    "Suponiendo que lanzamos un dado:\n",
    "+ **Espacio muestral**: Conjunto de todas las posibilidades {1,2,3,4,5,6}\n",
    "+ **Suceso elemental**: Cada elemento del espacio muestra {1},{2},...,{6}\n",
    "+ **Suceso compuesto**: Conjunto de sucesos elementales ej, obtener numero par, impar o mayor a 4\n",
    "+ **Suceso seguro**: Siempre ocurre {1,2,3,4,5,6}\n",
    "+ **Suceso Imposible**: Obtener un numero < 0 o > 6\n",
    "+ **Suceso complementario a un suceso A**: por ejemplo si el suceso son los numeros pares, el complementario son impoares\n",
    "\n",
    "Los sucesos pueden ser operados como conjuntos, con interseccion, union o diferencia\n",
    "\n",
    "**Probabilidad clásca (regla de Laplace)** suponiendo un experimento con sucesos equiprobables, tenemos que la probabilidad de A es el numero de casos favorables / el numero de casos posibles.\n",
    "\n",
    "**Enfoque frecuentista** si repetimos un experimento muchas veces, la frecunacia relativa convergeria con la probabilidad\n",
    "\n",
    "**Probabilidad subjetiva** Depende de la informacion que poseamos\n",
    "\n",
    "P(AUB) = P(A)+P(B) - P(A∩B)\n",
    "\n",
    "### Probabilidad Condicionadas \n",
    "Ejemplo: tenemos un grupo de 100 ejecutivos y el registro de su peso y el hecho de si sufren hipertension o no.\n",
    "\n",
    "Vamos a calcular la probabilidad de que al seleccionar uno, sea hipertenso\n"
   ]
  },
  {
   "cell_type": "code",
   "execution_count": 1,
   "id": "23e3d164",
   "metadata": {},
   "outputs": [],
   "source": [
    "import pandas as pd"
   ]
  },
  {
   "cell_type": "code",
   "execution_count": 3,
   "id": "41772978",
   "metadata": {},
   "outputs": [
    {
     "data": {
      "text/html": [
       "<div>\n",
       "<style scoped>\n",
       "    .dataframe tbody tr th:only-of-type {\n",
       "        vertical-align: middle;\n",
       "    }\n",
       "\n",
       "    .dataframe tbody tr th {\n",
       "        vertical-align: top;\n",
       "    }\n",
       "\n",
       "    .dataframe thead th {\n",
       "        text-align: right;\n",
       "    }\n",
       "</style>\n",
       "<table border=\"1\" class=\"dataframe\">\n",
       "  <thead>\n",
       "    <tr style=\"text-align: right;\">\n",
       "      <th></th>\n",
       "      <th>Insuficiente</th>\n",
       "      <th>Normal</th>\n",
       "      <th>Sobrepeso</th>\n",
       "      <th>Total</th>\n",
       "    </tr>\n",
       "    <tr>\n",
       "      <th>Tension</th>\n",
       "      <th></th>\n",
       "      <th></th>\n",
       "      <th></th>\n",
       "      <th></th>\n",
       "    </tr>\n",
       "  </thead>\n",
       "  <tbody>\n",
       "    <tr>\n",
       "      <th>Hipertenso(H)</th>\n",
       "      <td>2</td>\n",
       "      <td>8</td>\n",
       "      <td>10</td>\n",
       "      <td>20</td>\n",
       "    </tr>\n",
       "    <tr>\n",
       "      <th>Normal(N)</th>\n",
       "      <td>20</td>\n",
       "      <td>45</td>\n",
       "      <td>15</td>\n",
       "      <td>80</td>\n",
       "    </tr>\n",
       "    <tr>\n",
       "      <th>Total</th>\n",
       "      <td>22</td>\n",
       "      <td>53</td>\n",
       "      <td>25</td>\n",
       "      <td>100</td>\n",
       "    </tr>\n",
       "  </tbody>\n",
       "</table>\n",
       "</div>"
      ],
      "text/plain": [
       "               Insuficiente  Normal  Sobrepeso  Total\n",
       "Tension                                              \n",
       "Hipertenso(H)             2       8         10     20\n",
       "Normal(N)                20      45         15     80\n",
       "Total                    22      53         25    100"
      ]
     },
     "execution_count": 3,
     "metadata": {},
     "output_type": "execute_result"
    }
   ],
   "source": [
    "Tension = [\"Hipertenso(H)\", \"Normal(N)\"]\n",
    "Insuficiente = [2,20]\n",
    "Normal = [8,45]\n",
    "Sobrepeso = [10,15]\n",
    "HiperTension = pd.DataFrame({\"Tension\": Tension, \"Insuficiente\": Insuficiente, \"Normal\": Normal, \"Sobrepeso\": Sobrepeso})\n",
    "HiperTension[\"Total\"] = HiperTension[[\"Insuficiente\", \"Normal\", \"Sobrepeso\"]].sum(axis=1)\n",
    "recuento = HiperTension[[\"Insuficiente\", \"Normal\", \"Sobrepeso\", \"Total\"]].sum(axis=0)\n",
    "HiperTension = HiperTension.append({\"Tension\" : \"Total\", \"Insuficiente\" : recuento[0], \"Normal\" : recuento[1], \"Sobrepeso\": recuento[2], \"Total\": recuento[3]}, ignore_index = True)\n",
    "HiperTension.set_index(\"Tension\", inplace = True)\n",
    "HiperTension"
   ]
  },
  {
   "cell_type": "code",
   "execution_count": 6,
   "id": "beeb544d",
   "metadata": {},
   "outputs": [
    {
     "data": {
      "text/plain": [
       "0.2"
      ]
     },
     "execution_count": 6,
     "metadata": {},
     "output_type": "execute_result"
    }
   ],
   "source": [
    "HiperTension[\"Total\"][\"Hipertenso(H)\"]/HiperTension[\"Total\"][\"Total\"]"
   ]
  },
  {
   "cell_type": "markdown",
   "id": "369a3e10",
   "metadata": {},
   "source": [
    "Suponiendo que tiene sobrepeso, ¿Cual es la probabilidad de que sea hipertenso?"
   ]
  },
  {
   "cell_type": "code",
   "execution_count": 7,
   "id": "71c17a9d",
   "metadata": {},
   "outputs": [
    {
     "data": {
      "text/plain": [
       "0.4"
      ]
     },
     "execution_count": 7,
     "metadata": {},
     "output_type": "execute_result"
    }
   ],
   "source": [
    "HiperTension[\"Sobrepeso\"][\"Hipertenso(H)\"]/HiperTension[\"Sobrepeso\"][\"Total\"]"
   ]
  },
  {
   "cell_type": "markdown",
   "id": "bb6d5fd0",
   "metadata": {},
   "source": [
    "#### Sucesos independientes\n",
    "Al saber si uno ocurrio no nos da informacion de que el otro haya ocurrido, son independientes si:\n",
    "P(AnB) = P(A) * P(B)\n",
    "Ejemplo: \n",
    "Lanzando un dado \n",
    "+ A: El resultado es par\n",
    "+ B: El resultado es mayor que 2\n",
    "\n",
    "P(A|B) = P(AnB)/P(B) = (2/6)/(4/6) = 1/2 = P(A)\n",
    "\n",
    "---\n",
    "\n",
    "### Probabilidad Total\n",
    "Los sucesos son excluyentes si sus intersecciones son el conjunto vacio \n",
    "\n",
    "Si ademas la union de estos es el espacio muestral entonces son una partición del espacio muestral\n",
    "\n",
    "Y ahora si tenemos un suceso A como la siguiente imagen\n",
    "![Particion](data:image/png;base64,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)\n",
    "\n",
    "P(A) = P(AnB1) + P(AnB2) + ... + P(AnBk)\n",
    "\n",
    "= P(A|B1)P(B1) + P(A|B2)P(B2) + ... + P(A|Bk)P(Bk)\n",
    "\n",
    "Ejemplo\n",
    "En una fabrica se embalan galletas en cuatro cadenas de montaje: A1, A2, A3 y A4. El 35% de la produccion se embala en la cadena A1, el 20%, 24% y 21% en A2,A3,A4.\n",
    "Los datos indican que no se embalan un porcentaje pequeño de las cajas: 1% para la cadena A1, 3% en A2, 2.5% en A3 y 2% en A4\n",
    "¿Cual es la probabilidad de que una caja elegida al azar sea defectuosa?"
   ]
  },
  {
   "cell_type": "code",
   "execution_count": 9,
   "id": "7ce3a427",
   "metadata": {},
   "outputs": [
    {
     "data": {
      "text/plain": [
       "0.0197"
      ]
     },
     "execution_count": 9,
     "metadata": {},
     "output_type": "execute_result"
    }
   ],
   "source": [
    "Defectuoso = .35*.01 + .2*.03 + .24 * .025 + .21 * .02\n",
    "Defectuoso"
   ]
  },
  {
   "cell_type": "markdown",
   "id": "c00bcaad",
   "metadata": {},
   "source": [
    "### Teorema de Bayes\n",
    "para 2 sucesos A y B con P(A) > 0 y P(B) > 0 se tiene que:\n",
    "\n",
    "$P(A|B) = \\frac{P(B|A)P(A)}{P(B)}$\n",
    "\n",
    "P(AnB) = P(B|A)P(A) = P(A|B)P(B)\n",
    "\n",
    "Continuando con el ejemplo, suponiendo que se agarra una caja defectuosa ¿Cual es la probabilidad de que haya sido embalada en la cadena A1?\n",
    "P(A1|Defectuosa) = P(Defectuosa|A1) * P(A1) / P(Defectuosa) = .35 * .01 / .0197"
   ]
  },
  {
   "cell_type": "code",
   "execution_count": 10,
   "id": "3cacb27d",
   "metadata": {},
   "outputs": [
    {
     "data": {
      "text/plain": [
       "0.17766497461928935"
      ]
     },
     "execution_count": 10,
     "metadata": {},
     "output_type": "execute_result"
    }
   ],
   "source": [
    ".35 * .01 / .0197"
   ]
  },
  {
   "cell_type": "markdown",
   "id": "85b99582",
   "metadata": {},
   "source": [
    "Dada una particion B1,B2, ... , Bk, con P(Bi) != 0, i = 1,...,k y dado un suceso A, se tiene que para j = 1,...k\n",
    "$P(B|A) = \\frac{P(A|Bj)P(Bj)}{P(A|B1)P(B1) + P(A|B2)P(B2)+...+P(A|Bk)P(Bk)}$\n",
    "\n",
    "Ejemplo:\n",
    "Se tiene un test para una enfermedad que afecta a 1 de cada 10'000 personas. El testa da positivo en 99 de cada 100 personas que la padecen y da negativo en 97 de cada 100 personas que no la padecen. Si se aplica a una persona y da positivo ¿ Cual es la probabilidad de que padezca la enfermedad?\n",
    "\n",
    "P(Enfermo| Dio positivo) = P(Dio Positivo| Enfermo) P (Enfermo) / P(Dar positivo)\n",
    "\n",
    "P(Dio Positivo| Enfermo) P (Enfermo)  = .99 * 1/10000\n",
    "\n",
    "P(Dar positivo) = .99 * 1/10000 + .03 * 9999/10000"
   ]
  },
  {
   "cell_type": "code",
   "execution_count": 12,
   "id": "e017955a",
   "metadata": {},
   "outputs": [
    {
     "data": {
      "text/plain": [
       "0.0032894736842105266"
      ]
     },
     "execution_count": 12,
     "metadata": {},
     "output_type": "execute_result"
    }
   ],
   "source": [
    "(.99 / 10000 )/(.99 / 10000 + .03 * 9999/10000)"
   ]
  },
  {
   "cell_type": "markdown",
   "id": "9e00ed9e",
   "metadata": {},
   "source": [
    "# Ejercicios\n",
    "#### Ejercicio 1 \n",
    "Sabiendo que $P(AnB) = .6$ y $P(An\\overline{B}) = 0.2$\n",
    "Calcular la probabilidad de A\n",
    "\n",
    "(AnB) U (AnB') = P(AnB) + P(AnB') - P((AuB)n(AnB'))"
   ]
  },
  {
   "cell_type": "code",
   "execution_count": 14,
   "id": "bc4bd25d",
   "metadata": {},
   "outputs": [
    {
     "data": {
      "text/plain": [
       "0.8"
      ]
     },
     "execution_count": 14,
     "metadata": {},
     "output_type": "execute_result"
    }
   ],
   "source": [
    "AyB = .6 \n",
    "AyNoB = .2\n",
    "AyB + AyNoB"
   ]
  },
  {
   "cell_type": "markdown",
   "id": "0cfb52c5",
   "metadata": {},
   "source": [
    "#### Ejercicio 2\n",
    "Sea la urna U con bolas, 2 blancas, 3 negras y 4 rojas, se extraen 3 bolas, 1 negra, la segunda no se ve y la tercera blanca. Cual es la probabilidad de que la segunda sea roja\n",
    "\n",
    "tras la primera extraccion tenemos:\n",
    "+ U(2B,2N,4R)\n",
    "\n",
    "tras la segunda pudieron ser:\n",
    "+ U1(1B,2N,4R)\n",
    "+ U2(2B,1N,4R)\n",
    "+ U3(2B,2N,3R)\n",
    "\n",
    "y ahora, cual es la probabilidad de U3 dado que sabemos que la 3ra fue blanca\n",
    "+ P(U1) = 2/8\n",
    "+ P(U2) = 2/8\n",
    "+ P(U3) = 1/2\n",
    "+ P(U3|B) = P(B|U3)* P(U3) / P(B)\n",
    "+ P(B|U3) = 2/7\n",
    "+ P(B) = 1/7* 1/4 + 2/7 * 1 / 4 + 2/7 * 1 / 2"
   ]
  },
  {
   "cell_type": "code",
   "execution_count": 19,
   "id": "94d7e51d",
   "metadata": {},
   "outputs": [
    {
     "data": {
      "text/plain": [
       "0.5714285714285714"
      ]
     },
     "execution_count": 19,
     "metadata": {},
     "output_type": "execute_result"
    }
   ],
   "source": [
    "(2 / 7 ) * (1 / 2) / (((1 / 7) * (1 / 4)) + ((2 / 7) * (1 / 4))  + ((2/7) * (1/2)))"
   ]
  },
  {
   "cell_type": "markdown",
   "id": "b87324ea",
   "metadata": {},
   "source": [
    "#### Ejercicio 3 \n",
    "se tiene el siguiente circuito conectado: \n",
    "![Conectado](https://encrypted-tbn0.gstatic.com/images?q=tbn:ANd9GcRlv3XAUnC7laFHQELMW-f3aMvosoifIH99WA&usqp=CAU)\n",
    "hay un .01 de que un componente se averie, cual es la probabilidad de que haya una ruta que llegue de A y B  \n",
    "\n",
    "Existen 3 rutas:\n",
    "+ 1, 2, 3 \n",
    "+ 1, 4, 5, 6\n",
    "+ 1, 4, 5, 7\n",
    "\n",
    "En 6 y 7 deja de funcionar cuando ambos fallan, asi que necesitamos la probabilidad de que los 2 fallen, .01 * .01\n",
    "\n",
    "Estando conectados en serio 4-5-(6,7) aqui hay error si alguno de los 3 falla, por lo que aqui necesitamos la probabilidad de que ninguno falle. En este caso .99*.99*(1-.01*.01). Y lo mismo para 2 y 3 donde la probabilidad de que ninguno falle es de .99 * .99"
   ]
  },
  {
   "cell_type": "code",
   "execution_count": 3,
   "id": "3dc95c5e",
   "metadata": {},
   "outputs": [
    {
     "data": {
      "text/plain": [
       "0.98000199"
      ]
     },
     "execution_count": 3,
     "metadata": {},
     "output_type": "execute_result"
    }
   ],
   "source": [
    ".99*.99*(1-.01*.01)"
   ]
  },
  {
   "cell_type": "code",
   "execution_count": 4,
   "id": "e35dfee2",
   "metadata": {},
   "outputs": [
    {
     "data": {
      "text/plain": [
       "0.9801"
      ]
     },
     "execution_count": 4,
     "metadata": {},
     "output_type": "execute_result"
    }
   ],
   "source": [
    ".99 * .99"
   ]
  },
  {
   "cell_type": "markdown",
   "id": "5e2bd941",
   "metadata": {},
   "source": [
    "(2, 3) esta en paralelo con (4,5,(6,7)) por lo que aqui necesitamos la probabilidad de que los 2 fallen es decir 1-.9801 * 1-.98000199"
   ]
  },
  {
   "cell_type": "code",
   "execution_count": 13,
   "id": "2d99dfe1",
   "metadata": {},
   "outputs": [
    {
     "data": {
      "text/plain": [
       "0.999602039601"
      ]
     },
     "execution_count": 13,
     "metadata": {},
     "output_type": "execute_result"
    }
   ],
   "source": [
    "1 - ((1-.99*.99*(1-.01*.01)) * (1- .99 * .99))"
   ]
  },
  {
   "cell_type": "markdown",
   "id": "c9a37859",
   "metadata": {},
   "source": [
    "Y con el 1 en serie solo nos queda multiplicar la probabilidad de que nada falle, .99 * .99960"
   ]
  },
  {
   "cell_type": "code",
   "execution_count": 14,
   "id": "f777d803",
   "metadata": {},
   "outputs": [
    {
     "data": {
      "text/plain": [
       "0.98960601920499"
      ]
     },
     "execution_count": 14,
     "metadata": {},
     "output_type": "execute_result"
    }
   ],
   "source": [
    "(1 - ((1-.99*.99*(1-.01*.01)) * (1- .99 * .99))) * .99"
   ]
  },
  {
   "cell_type": "code",
   "execution_count": null,
   "id": "e229688c",
   "metadata": {},
   "outputs": [],
   "source": []
  }
 ],
 "metadata": {
  "kernelspec": {
   "display_name": "Python 3",
   "language": "python",
   "name": "python3"
  },
  "language_info": {
   "codemirror_mode": {
    "name": "ipython",
    "version": 3
   },
   "file_extension": ".py",
   "mimetype": "text/x-python",
   "name": "python",
   "nbconvert_exporter": "python",
   "pygments_lexer": "ipython3",
   "version": "3.8.8"
  }
 },
 "nbformat": 4,
 "nbformat_minor": 5
}
