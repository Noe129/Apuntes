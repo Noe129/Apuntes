{
 "cells": [
  {
   "cell_type": "markdown",
   "id": "fa9bd090",
   "metadata": {},
   "source": [
    "# Distribuciones \n",
    "\n",
    "## Distribucion de una variable aleatoria discreta\n",
    "\n",
    "Imaginando que lanzamos 2 veces una moneda y nos fijamos que salio cara (C) o cruz (Z)\n",
    "\n",
    "Podemos definir la variable aleatoria X, la cual es el numero de caras. \n",
    "\n",
    "Tenemos las combinaciones CC, ZZ, CZ, ZC. donde X = 2,0,1,1 respectivamente. En este caso el rango de X es de {0,1,2}\n",
    "\n",
    "**Para definir una variable aleatoria** se necesita el Rango e valores que toma y con que probabilidad toma dichos valores, es decir la distribucion\n",
    "\n",
    "***Distribucion*** es la función que le asigna a cada valor de la variable, la probabilidad de que la variable sea menor o igual que el valor. Es decir se acumulan las probabilidades\n",
    "\n",
    "Con la funcion de probabilidad se puede calcular la media y varianza, definiendolas con el concepto de Esperanza matemática o valor esperado, de la variable aleatoria E(X)\n",
    "\n",
    "Para una variable aleatoria discreta la media poblacional $\\mu$ coincide con el valor esperado E(X)\n",
    "\n",
    "La varianza poblacional $\\sigma^2$ es el valor esperado de la diferencia cuadratica entre la variable y el valor esperado. $E[(X-E(X))^2] = E[X^2] - (E[X])^2$ \n",
    "\n",
    "---\n",
    "\n"
   ]
  },
  {
   "cell_type": "code",
   "execution_count": null,
   "id": "16bead57",
   "metadata": {},
   "outputs": [],
   "source": []
  }
 ],
 "metadata": {
  "kernelspec": {
   "display_name": "Python 3",
   "language": "python",
   "name": "python3"
  },
  "language_info": {
   "codemirror_mode": {
    "name": "ipython",
    "version": 3
   },
   "file_extension": ".py",
   "mimetype": "text/x-python",
   "name": "python",
   "nbconvert_exporter": "python",
   "pygments_lexer": "ipython3",
   "version": "3.8.8"
  }
 },
 "nbformat": 4,
 "nbformat_minor": 5
}
