{
 "cells": [
  {
   "cell_type": "code",
   "execution_count": 1,
   "id": "ea79c395",
   "metadata": {},
   "outputs": [],
   "source": [
    "from sklearn import datasets"
   ]
  },
  {
   "cell_type": "code",
   "execution_count": 3,
   "id": "bf7dc069",
   "metadata": {},
   "outputs": [],
   "source": [
    "boston = datasets.load_boston()"
   ]
  },
  {
   "cell_type": "code",
   "execution_count": 4,
   "id": "3b14c0b0",
   "metadata": {},
   "outputs": [],
   "source": [
    "from sklearn.linear_model import LinearRegression"
   ]
  },
  {
   "cell_type": "code",
   "execution_count": 5,
   "id": "accc2970",
   "metadata": {},
   "outputs": [],
   "source": [
    "model = LinearRegression()"
   ]
  },
  {
   "cell_type": "code",
   "execution_count": 6,
   "id": "9b912fde",
   "metadata": {},
   "outputs": [
    {
     "data": {
      "text/plain": [
       "LinearRegression()"
      ]
     },
     "execution_count": 6,
     "metadata": {},
     "output_type": "execute_result"
    }
   ],
   "source": [
    "model.fit(X=boston[\"data\"], y = boston[\"target\"])"
   ]
  },
  {
   "cell_type": "code",
   "execution_count": 8,
   "id": "4b118bd9",
   "metadata": {},
   "outputs": [],
   "source": [
    "y_objetivo = boston[\"target\"]\n",
    "y_pred = model.predict(boston[\"data\"])"
   ]
  },
  {
   "cell_type": "code",
   "execution_count": 9,
   "id": "d22eae6d",
   "metadata": {},
   "outputs": [],
   "source": [
    "from sklearn import metrics"
   ]
  },
  {
   "cell_type": "markdown",
   "id": "8e241570",
   "metadata": {},
   "source": [
    "### Error abosluto medio\n",
    "MAE en ingles, es una metrica robusta, es decir no le afectan valores extremos, ademas se mide en la unidad de los datos. Por ejemplo en dolares"
   ]
  },
  {
   "cell_type": "code",
   "execution_count": 10,
   "id": "b632049e",
   "metadata": {},
   "outputs": [],
   "source": [
    "metrics.mean_absolute_error?"
   ]
  },
  {
   "cell_type": "code",
   "execution_count": 11,
   "id": "3bce75ee",
   "metadata": {},
   "outputs": [
    {
     "data": {
      "text/plain": [
       "3.270862810900314"
      ]
     },
     "execution_count": 11,
     "metadata": {},
     "output_type": "execute_result"
    }
   ],
   "source": [
    "metrics.mean_absolute_error(y_objetivo, y_pred)"
   ]
  },
  {
   "cell_type": "markdown",
   "id": "0f11eb4a",
   "metadata": {},
   "source": [
    "### Error cuadratico medio \n",
    "MSE, se mide con las diferencias al cuadrado, el problema es que al ser al cuadrado el error tambien lo es, por lo que es menos intuitivo\n",
    "\n",
    "### Raiz del error cuadratico medio\n",
    "Root mean squared error, se mide en las mismas unidades que la variable. Un problema es que la da mas importancia a los valores grandes. por ejemplo entre 10-20 y 1000-1030 el segundo resulta un error mas grande, aunque en proporcion, es mas grande el primero. \n",
    "\n",
    "Es mejor su uso cuando queremos evitar errores grandes y cuando la distribucion de la variable objetivo esta bien distribuida"
   ]
  },
  {
   "cell_type": "code",
   "execution_count": 12,
   "id": "cec61c75",
   "metadata": {},
   "outputs": [
    {
     "data": {
      "text/plain": [
       "4.679191295697282"
      ]
     },
     "execution_count": 12,
     "metadata": {},
     "output_type": "execute_result"
    }
   ],
   "source": [
    "import numpy as np\n",
    "np.sqrt(metrics.mean_squared_error(y_objetivo, y_pred))"
   ]
  },
  {
   "cell_type": "markdown",
   "id": "eb524923",
   "metadata": {},
   "source": [
    "### Coeficiente de determinacion\n",
    "mide la porcion de la varianza de la variable objetivo. Un problema es que no considera que sea un modelo complejo, por eso existe el coeficiente de determinacion ajustado"
   ]
  },
  {
   "cell_type": "code",
   "execution_count": 13,
   "id": "e019a231",
   "metadata": {},
   "outputs": [
    {
     "data": {
      "text/plain": [
       "0.7406426641094094"
      ]
     },
     "execution_count": 13,
     "metadata": {},
     "output_type": "execute_result"
    }
   ],
   "source": [
    "modelo_r2 = metrics.r2_score(y_objetivo, y_pred)\n",
    "modelo_r2"
   ]
  },
  {
   "cell_type": "code",
   "execution_count": 14,
   "id": "ffbd5e62",
   "metadata": {},
   "outputs": [
    {
     "data": {
      "text/plain": [
       "array([[1.        , 0.74064266],\n",
       "       [0.74064266, 1.        ]])"
      ]
     },
     "execution_count": 14,
     "metadata": {},
     "output_type": "execute_result"
    }
   ],
   "source": [
    "import numpy\n",
    "np.corrcoef(y_objetivo, y_pred)**2"
   ]
  },
  {
   "cell_type": "code",
   "execution_count": 15,
   "id": "c2883374",
   "metadata": {},
   "outputs": [
    {
     "data": {
      "text/plain": [
       "13"
      ]
     },
     "execution_count": 15,
     "metadata": {},
     "output_type": "execute_result"
    }
   ],
   "source": [
    "len(model.coef_)"
   ]
  },
  {
   "cell_type": "code",
   "execution_count": null,
   "id": "f251cffa",
   "metadata": {},
   "outputs": [],
   "source": []
  }
 ],
 "metadata": {
  "kernelspec": {
   "display_name": "Python 3",
   "language": "python",
   "name": "python3"
  },
  "language_info": {
   "codemirror_mode": {
    "name": "ipython",
    "version": 3
   },
   "file_extension": ".py",
   "mimetype": "text/x-python",
   "name": "python",
   "nbconvert_exporter": "python",
   "pygments_lexer": "ipython3",
   "version": "3.8.8"
  }
 },
 "nbformat": 4,
 "nbformat_minor": 5
}
